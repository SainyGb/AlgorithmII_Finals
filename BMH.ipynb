{
 "cells": [
  {
   "cell_type": "code",
   "execution_count": 8,
   "metadata": {},
   "outputs": [],
   "source": [
    "class BMH:\n",
    "  def __init__(self, texto: str, padrão: str):\n",
    "    self.texto, self.padrão = texto, padrão\n",
    "    self.tamt, self.tamp = len(texto), len(padrão)\n",
    "    self.calculate(); self.execute()\n",
    "    print(f\"Dicionário de saltos: {self.salto}\")\n",
    "    print(f\"Indices percorridos: {self.index}\")\n",
    "    print(f\"Matchs encontrados: {self.match}\")\n",
    "\n",
    "  def calculate(self):\n",
    "    tamp, padrão = self.tamp, self.padrão\n",
    "    tuplas = zip(padrão, range(1, tamp)[::-1])\n",
    "    salto = {char: num for char, num in tuplas}\n",
    "    if padrão[-1] not in salto:\n",
    "      salto[padrão[-1]] = tamp\n",
    "    self.salto = salto\n",
    "\n",
    "  def execute(self):\n",
    "    index, match = [], []\n",
    "    tam, atual = self.tamp, 0\n",
    "    while atual <= (self.tamt - tam):\n",
    "      index.append(atual)\n",
    "      word = self.texto[atual:atual+tam]\n",
    "      if self.padrão == word:\n",
    "        match.append(atual)\n",
    "      try: atual += self.salto[word[-1]]\n",
    "      except KeyError: atual += tam\n",
    "    self.index = index\n",
    "    self.match = match"
   ]
  },
  {
   "cell_type": "code",
   "execution_count": 9,
   "metadata": {},
   "outputs": [
    {
     "name": "stdout",
     "output_type": "stream",
     "text": [
      "Dicionário de saltos: {'a': 5, 'b': 4, 'c': 2, 'd': 1}\n",
      "Indices percorridos: [0, 2, 3, 4, 11, 15, 16]\n",
      "Matchs encontrados: [3, 15]\n"
     ]
    }
   ],
   "source": [
    "BMH(\"ifhaabccddohorjaabccddeeeee\", \"aabccdd\"); pass"
   ]
  }
 ],
 "metadata": {
  "kernelspec": {
   "display_name": "Python 3",
   "language": "python",
   "name": "python3"
  },
  "language_info": {
   "codemirror_mode": {
    "name": "ipython",
    "version": 3
   },
   "file_extension": ".py",
   "mimetype": "text/x-python",
   "name": "python",
   "nbconvert_exporter": "python",
   "pygments_lexer": "ipython3",
   "version": "3.11.4"
  },
  "orig_nbformat": 4
 },
 "nbformat": 4,
 "nbformat_minor": 2
}
