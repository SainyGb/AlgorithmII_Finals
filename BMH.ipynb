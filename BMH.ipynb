{
 "cells": [
  {
   "attachments": {},
   "cell_type": "markdown",
   "metadata": {},
   "source": [
    "# Algorito BMH"
   ]
  },
  {
   "attachments": {},
   "cell_type": "markdown",
   "metadata": {},
   "source": [
    "Aqui, temos o algoritmo de definição do BMH. Nenhuma biblioteca é necessária para implementá-lo"
   ]
  },
  {
   "cell_type": "code",
   "execution_count": 1,
   "metadata": {},
   "outputs": [],
   "source": [
    "class BMH:\n",
    "  __slots__ = (\"texto\", \"padrão\", \"tamt\",\n",
    "    \"tamp\", \"salto\", \"index\", \"match\")\n",
    "\n",
    "  def __init__(self, texto: str, padrão: str):\n",
    "    self.texto, self.padrão = texto, padrão\n",
    "    self.tamt, self.tamp = len(texto), len(padrão)\n",
    "    self.calculate(); self.execute()\n",
    "    print(f\"Dicionário de saltos: {self.salto}\")\n",
    "    print(f\"Indices percorridos: {self.index}\")\n",
    "    print(f\"Matchs encontrados: {self.match}\")\n",
    "\n",
    "  def calculate(self):\n",
    "    tamp, padrão = self.tamp, self.padrão\n",
    "    tuplas = zip(padrão, range(1, tamp)[::-1])\n",
    "    salto = {char: num for char, num in tuplas}\n",
    "    if padrão[-1] not in salto:\n",
    "      salto[padrão[-1]] = tamp\n",
    "    self.salto = salto\n",
    "\n",
    "  def execute(self):\n",
    "    index, match = [], []\n",
    "    tam, atual = self.tamp, 0\n",
    "    while atual <= (self.tamt - tam):\n",
    "      index.append(atual)\n",
    "      word = self.texto[atual:atual+tam]\n",
    "      if self.padrão == word:\n",
    "        match.append(atual)\n",
    "      try: atual += self.salto[word[-1]]\n",
    "      except KeyError: atual += tam\n",
    "    self.index = index\n",
    "    self.match = match"
   ]
  },
  {
   "attachments": {},
   "cell_type": "markdown",
   "metadata": {},
   "source": [
    "Perceba que podemos dividir em duas partes essa classe.\n",
    "\n",
    "- calculate: parte responsável pelo cálculo dos saltos que cada caracter do padrão vai ter.\n",
    "- execute: responsável pela passada do padrão pelo texto. Logicamente, os saltos vão ocorrer a depender do último caracter do texto que está sendo comparado com o padrão.\n",
    "\n",
    "Com isso, abaixo está um exemplo e execução do algoritmo."
   ]
  },
  {
   "cell_type": "code",
   "execution_count": 2,
   "metadata": {},
   "outputs": [
    {
     "name": "stdout",
     "output_type": "stream",
     "text": [
      "Dicionário de saltos: {'t': 1, 'e': 3, 's': 2}\n",
      "Indices percorridos: [0, 3, 6, 7, 10, 15, 20, 25, 30, 31, 34, 37, 40, 45]\n",
      "Matchs encontrados: [3, 34]\n"
     ]
    },
    {
     "data": {
      "text/plain": [
       "<__main__.BMH at 0x2566a222920>"
      ]
     },
     "execution_count": 2,
     "metadata": {},
     "output_type": "execute_result"
    }
   ],
   "source": [
    "BMH(\"os testes testam os alunos com um teste de capacidade\", \"teste\")"
   ]
  }
 ],
 "metadata": {
  "kernelspec": {
   "display_name": "Python 3",
   "language": "python",
   "name": "python3"
  },
  "language_info": {
   "codemirror_mode": {
    "name": "ipython",
    "version": 3
   },
   "file_extension": ".py",
   "mimetype": "text/x-python",
   "name": "python",
   "nbconvert_exporter": "python",
   "pygments_lexer": "ipython3",
   "version": "3.11.4"
  },
  "orig_nbformat": 4
 },
 "nbformat": 4,
 "nbformat_minor": 2
}
