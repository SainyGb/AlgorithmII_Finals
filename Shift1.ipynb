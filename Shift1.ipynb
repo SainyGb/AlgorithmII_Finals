{
 "cells": [
  {
   "cell_type": "code",
   "execution_count": 1,
   "metadata": {},
   "outputs": [],
   "source": [
    "from bitarray import bitarray"
   ]
  },
  {
   "cell_type": "code",
   "execution_count": 2,
   "metadata": {},
   "outputs": [],
   "source": [
    "class ShiftAnd:\n",
    "  def __init__(self, texto: str, padrão: str):\n",
    "    self.T, self.P, self.L = texto, padrão, len(padrão)\n",
    "    self.calculate(); self.execute()\n",
    "    print(f\"Tabela das máscaras: {self.masks}\")\n",
    "    print(f\"Matchs encontrados: {self.match}\")\n",
    "\n",
    "  def calculate(self):\n",
    "    init = bitarray(\"0\" * self.L)\n",
    "    masks = {char: init.copy() for char in set(self.P)}\n",
    "    for i, char in enumerate(self.P): masks[char][i] = 1\n",
    "    self.masks = masks\n",
    "\n",
    "  def execute(self):\n",
    "    def execute_core():\n",
    "      R = C = bitarray(\"0\" * self.L)\n",
    "      OR = bitarray(\"1\" + (\"0\" * (self.L - 1)))\n",
    "      for i, char in enumerate(self.T):\n",
    "        try: R = ((R >> 1) | OR) & self.masks[char]\n",
    "        except KeyError: R = C\n",
    "        if R[-1]: yield f\"no índice {i}\"\n",
    "    self.match = \", \".join(execute_core())"
   ]
  },
  {
   "cell_type": "code",
   "execution_count": 3,
   "metadata": {},
   "outputs": [
    {
     "name": "stdout",
     "output_type": "stream",
     "text": [
      "Tabela das máscaras: {'s': bitarray('00100'), 'e': bitarray('01001'), 't': bitarray('10010')}\n",
      "Matchs encontrados: no índice 8, no índice 16\n"
     ]
    }
   ],
   "source": [
    "ShiftAnd(\"aos testes, testem estes alunos\", \"teste\"); pass"
   ]
  }
 ],
 "metadata": {
  "kernelspec": {
   "display_name": "Python 3",
   "language": "python",
   "name": "python3"
  },
  "language_info": {
   "codemirror_mode": {
    "name": "ipython",
    "version": 3
   },
   "file_extension": ".py",
   "mimetype": "text/x-python",
   "name": "python",
   "nbconvert_exporter": "python",
   "pygments_lexer": "ipython3",
   "version": "3.11.4"
  },
  "orig_nbformat": 4
 },
 "nbformat": 4,
 "nbformat_minor": 2
}
