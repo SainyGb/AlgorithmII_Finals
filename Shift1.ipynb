{
 "cells": [
  {
   "attachments": {},
   "cell_type": "markdown",
   "metadata": {},
   "source": [
    "# Algoritmo Shift-And"
   ]
  },
  {
   "attachments": {},
   "cell_type": "markdown",
   "metadata": {},
   "source": [
    "Para que o algoritmo funcione apropriadamente, é necessário alguma estrutura que se assemelhe à [estrutura bitset](https://en.cppreference.com/w/cpp/utility/bitset \"Referência\") do C++. Como essa estrutura não existe originalmente no Python, é necessário instalar uma que se assemelha à ela, da biblioteca [bitarray](https://github.com/ilanschnell/bitarray \"Referência\"). Para isso:\n",
    "\n",
    "> $ pip install bitarray\n",
    "\n",
    "Com ela já instalada, agora é necessário importá-la:"
   ]
  },
  {
   "cell_type": "code",
   "execution_count": 1,
   "metadata": {},
   "outputs": [],
   "source": [
    "from bitarray import bitarray"
   ]
  },
  {
   "attachments": {},
   "cell_type": "markdown",
   "metadata": {},
   "source": [
    "Após o import, agora temos que definir a classe do Shift-And:"
   ]
  },
  {
   "cell_type": "code",
   "execution_count": 2,
   "metadata": {},
   "outputs": [],
   "source": [
    "class ShiftAnd:\n",
    "  __slots__ = \"T\", \"P\", \"L\", \"masks\", \"match\"\n",
    "\n",
    "  def __init__(self, texto: str, padrão: str):\n",
    "    self.T, self.P, self.L = texto, padrão, len(padrão)\n",
    "    self.calculate(); self.execute()\n",
    "    print(f\"Tabela das máscaras: {self.masks}\")\n",
    "    print(f\"Matchs encontrados: {self.match}\")\n",
    "\n",
    "  def calculate(self):\n",
    "    init = bitarray(\"0\" * self.L)\n",
    "    masks = {char: init.copy() for char in set(self.P)}\n",
    "    for i, char in enumerate(self.P): masks[char][i] = 1\n",
    "    self.masks = masks\n",
    "\n",
    "  def execute(self):\n",
    "    def execute_core():\n",
    "      R = C = bitarray(\"0\" * self.L)\n",
    "      OR = bitarray(\"1\" + (\"0\" * (self.L - 1)))\n",
    "      for i, char in enumerate(self.T):\n",
    "        try: R = ((R >> 1) | OR) & self.masks[char]\n",
    "        except KeyError: R = C\n",
    "        if R[-1]: yield f\"no índice {i}\"\n",
    "    self.match = \", \".join(execute_core())"
   ]
  },
  {
   "attachments": {},
   "cell_type": "markdown",
   "metadata": {},
   "source": [
    "Observe que podemos dividir essa classe em duas partes:\n",
    "\n",
    "- calculate: a parte que calcula as máscaras do padrão. Isso é feito com o uso do dicionário do Python.\n",
    "- execute: a parte que realmente procura pelo padrão no texto. Aqui, são usadas algumas sobrecargas de operador que vem juntamente ao bitarray, para que o autômato do Shift-And funcione corretamente.\n",
    "\n",
    "Após a definição da classe, podemos testar a classe com algum texto e padrão:"
   ]
  },
  {
   "cell_type": "code",
   "execution_count": null,
   "metadata": {},
   "outputs": [],
   "source": [
    "ShiftAnd(\"os testes testam os alunos com um teste de capacidade\", \"teste\"); pass"
   ]
  }
 ],
 "metadata": {
  "kernelspec": {
   "display_name": "Python 3",
   "language": "python",
   "name": "python3"
  },
  "language_info": {
   "codemirror_mode": {
    "name": "ipython",
    "version": 3
   },
   "file_extension": ".py",
   "mimetype": "text/x-python",
   "name": "python",
   "nbconvert_exporter": "python",
   "pygments_lexer": "ipython3",
   "version": "3.12.5"
  },
  "orig_nbformat": 4
 },
 "nbformat": 4,
 "nbformat_minor": 2
}
