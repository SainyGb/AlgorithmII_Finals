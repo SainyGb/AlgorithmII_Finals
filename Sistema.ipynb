{
 "cells": [
  {
   "attachments": {},
   "cell_type": "markdown",
   "metadata": {},
   "source": [
    "# Sistema unificado dos processadores de texto"
   ]
  },
  {
   "attachments": {},
   "cell_type": "markdown",
   "metadata": {},
   "source": [
    "#### Imports"
   ]
  },
  {
   "cell_type": "code",
   "execution_count": 7,
   "metadata": {},
   "outputs": [],
   "source": [
    "from itertools import pairwise\n",
    "from bitarray import bitarray"
   ]
  },
  {
   "attachments": {},
   "cell_type": "markdown",
   "metadata": {},
   "source": [
    "#### BMH"
   ]
  },
  {
   "cell_type": "code",
   "execution_count": 8,
   "metadata": {},
   "outputs": [],
   "source": [
    "class BMH:\n",
    "  def __init__(self, texto: str, padrão: str):\n",
    "    self.texto, self.padrão = texto, padrão\n",
    "    self.tamt, self.tamp = len(texto), len(padrão)\n",
    "    self.calculate(); self.execute()\n",
    "    print(f\"Dicionário de saltos: {self.salto}\")\n",
    "    print(f\"Indices percorridos: {self.index}\")\n",
    "    print(f\"Matchs encontrados: {self.match}\")\n",
    "\n",
    "  def calculate(self):\n",
    "    tamp, padrão = self.tamp, self.padrão\n",
    "    tuplas = zip(padrão, range(1, tamp)[::-1])\n",
    "    salto = {char: num for char, num in tuplas}\n",
    "    if padrão[-1] not in salto:\n",
    "      salto[padrão[-1]] = tamp\n",
    "    self.salto = salto\n",
    "\n",
    "  def execute(self):\n",
    "    index, match = [], []\n",
    "    tam, atual = self.tamp, 0\n",
    "    while atual <= (self.tamt - tam):\n",
    "      index.append(atual)\n",
    "      word = self.texto[atual:atual+tam]\n",
    "      if self.padrão == word:\n",
    "        match.append(atual)\n",
    "      try: atual += self.salto[word[-1]]\n",
    "      except KeyError: atual += tam\n",
    "    self.index = index\n",
    "    self.match = match"
   ]
  },
  {
   "attachments": {},
   "cell_type": "markdown",
   "metadata": {},
   "source": [
    "#### ShiftAnd"
   ]
  },
  {
   "cell_type": "code",
   "execution_count": 9,
   "metadata": {},
   "outputs": [],
   "source": [
    "class ShiftAnd:\n",
    "  def __init__(self, texto: str, padrão: str):\n",
    "    self.T, self.P, self.L = texto, padrão, len(padrão)\n",
    "    self.calculate(); self.execute()\n",
    "    print(f\"Tabela das máscaras: {self.masks}\")\n",
    "    print(f\"Matchs encontrados: {self.match}\")\n",
    "\n",
    "  def calculate(self):\n",
    "    init = bitarray(\"0\" * self.L)\n",
    "    masks = {char: init.copy() for char in set(self.P)}\n",
    "    for i, char in enumerate(self.P): masks[char][i] = 1\n",
    "    self.masks = masks\n",
    "\n",
    "  def execute(self):\n",
    "    def execute_core():\n",
    "      R = C = bitarray(\"0\" * self.L)\n",
    "      OR = bitarray(\"1\" + (\"0\" * (self.L - 1)))\n",
    "      for i, char in enumerate(self.T):\n",
    "        try: R = ((R >> 1) | OR) & self.masks[char]\n",
    "        except KeyError: R = C\n",
    "        if R[-1]: yield f\"no índice {i}\"\n",
    "    self.match = \", \".join(execute_core())"
   ]
  },
  {
   "attachments": {},
   "cell_type": "markdown",
   "metadata": {},
   "source": [
    "#### ShiftAndAprox"
   ]
  },
  {
   "cell_type": "code",
   "execution_count": 10,
   "metadata": {},
   "outputs": [],
   "source": [
    "class ShiftAndAprox:\n",
    "  def __init__(self, texto: str, padrão: str, k = 0):\n",
    "    self.T, self.P, self.L = texto, padrão, len(padrão)\n",
    "    self.calculate(); self.execute(k)\n",
    "    print(f\"Tabela das máscaras: {self.masks}\")\n",
    "    print(f\"Matchs encontrados: {self.match}\")\n",
    "\n",
    "  def calculate(self):\n",
    "    init = bitarray(\"0\" * self.L)\n",
    "    masks = {char: init.copy() for char in set(self.P)}\n",
    "    for i, char in enumerate(self.P): masks[char][i] = 1\n",
    "    self.masks = masks\n",
    "\n",
    "  def execute(self, k: int):\n",
    "    def execute_core():\n",
    "      RK = [bitarray(\"1\" * i + \"0\" * (self.L - i)) for i in range(k+1)]\n",
    "      CK = AT = [*RK]; OR = bitarray(\"1\" + (\"0\" * (self.L - 1)))\n",
    "      for i, char in enumerate(self.T):\n",
    "        try: RK[0] = ((AT[0] >> 1) | OR) & self.masks[char]\n",
    "        except KeyError: RK[0] = CK[0]\n",
    "        if RK[0][-1]: yield f\"exato em {i}\"\n",
    "        for a, n in pairwise(range(k+1)):\n",
    "          try: escolha = self.masks[char]\n",
    "          except KeyError: escolha = CK[n]\n",
    "          RK[n] = ((AT[n] >> 1) & escolha) | AT[a] | (RK[a] >> 1) | OR\n",
    "          if RK[n][-1]: yield f\"aprox. em {i}\"\n",
    "        AT = [*RK]\n",
    "    self.match = \", \".join(execute_core())"
   ]
  },
  {
   "attachments": {},
   "cell_type": "markdown",
   "metadata": {},
   "source": [
    "#### Sistema que unifica os códigos"
   ]
  },
  {
   "cell_type": "code",
   "execution_count": 11,
   "metadata": {},
   "outputs": [],
   "source": [
    "def sistema(texto: str, padrão: str, k = 0):\n",
    "  if k:\n",
    "    print(\"ShiftAndAprox:\")\n",
    "    ShiftAndAprox(texto, padrão, k)\n",
    "  else:\n",
    "    print(\"BMH:\")\n",
    "    BMH(texto, padrão)\n",
    "    print(\"\\nShiftAnd:\")\n",
    "    ShiftAnd(texto, padrão)"
   ]
  },
  {
   "attachments": {},
   "cell_type": "markdown",
   "metadata": {},
   "source": [
    "#### Executando o mesmo"
   ]
  },
  {
   "cell_type": "code",
   "execution_count": 13,
   "metadata": {},
   "outputs": [
    {
     "name": "stdout",
     "output_type": "stream",
     "text": [
      "ShiftAndAprox:\n",
      "Tabela das máscaras: {'s': bitarray('00100'), 't': bitarray('10010'), 'e': bitarray('01001')}\n",
      "Matchs encontrados: aprox. em 6, exato em 7, aprox. em 7, aprox. em 8, aprox. em 11, aprox. em 13, aprox. em 37, exato em 38, aprox. em 38, aprox. em 39\n"
     ]
    }
   ],
   "source": [
    "sistema(\"os testes testam os alunos com um teste de capacidade\", \"teste\", 1)"
   ]
  }
 ],
 "metadata": {
  "kernelspec": {
   "display_name": "Python 3",
   "language": "python",
   "name": "python3"
  },
  "language_info": {
   "codemirror_mode": {
    "name": "ipython",
    "version": 3
   },
   "file_extension": ".py",
   "mimetype": "text/x-python",
   "name": "python",
   "nbconvert_exporter": "python",
   "pygments_lexer": "ipython3",
   "version": "3.11.4"
  },
  "orig_nbformat": 4
 },
 "nbformat": 4,
 "nbformat_minor": 2
}
